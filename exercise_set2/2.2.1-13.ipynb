{
 "cells": [
  {
   "cell_type": "code",
   "execution_count": 2,
   "id": "ac4f73f1",
   "metadata": {},
   "outputs": [],
   "source": [
    "import pandas as pd\n",
    "import numpy as np\n",
    "import matplotlib.pyplot as plt"
   ]
  },
  {
   "cell_type": "code",
   "execution_count": 20,
   "id": "e52a3413",
   "metadata": {},
   "outputs": [],
   "source": [
    "# ex1"
   ]
  },
  {
   "cell_type": "code",
   "execution_count": 7,
   "id": "184b8f08",
   "metadata": {},
   "outputs": [
    {
     "data": {
      "text/plain": [
       "array([12., 13., 14., 15., 16., 17., 18., 19., 20., 21., 22., 23.])"
      ]
     },
     "execution_count": 7,
     "metadata": {},
     "output_type": "execute_result"
    }
   ],
   "source": [
    "a = np.linspace(start=12, stop=24, num=12, endpoint=False)\n",
    "a"
   ]
  },
  {
   "cell_type": "code",
   "execution_count": null,
   "id": "4a780fd2",
   "metadata": {},
   "outputs": [],
   "source": [
    "# ex2"
   ]
  },
  {
   "cell_type": "code",
   "execution_count": 9,
   "id": "9f6fc236",
   "metadata": {},
   "outputs": [
    {
     "data": {
      "text/plain": [
       "array([[12., 13., 14., 15., 16., 17.],\n",
       "       [18., 19., 20., 21., 22., 23.]])"
      ]
     },
     "execution_count": 9,
     "metadata": {},
     "output_type": "execute_result"
    }
   ],
   "source": [
    "a1 = a.reshape((2,6))\n",
    "a1"
   ]
  },
  {
   "cell_type": "code",
   "execution_count": 10,
   "id": "5c2b7350",
   "metadata": {},
   "outputs": [
    {
     "data": {
      "text/plain": [
       "array([[12., 13.],\n",
       "       [14., 15.],\n",
       "       [16., 17.],\n",
       "       [18., 19.],\n",
       "       [20., 21.],\n",
       "       [22., 23.]])"
      ]
     },
     "execution_count": 10,
     "metadata": {},
     "output_type": "execute_result"
    }
   ],
   "source": [
    "a2 = a.reshape((6,2))\n",
    "a2"
   ]
  },
  {
   "cell_type": "code",
   "execution_count": 11,
   "id": "67fd1304",
   "metadata": {},
   "outputs": [
    {
     "data": {
      "text/plain": [
       "array([[12., 13., 14.],\n",
       "       [15., 16., 17.],\n",
       "       [18., 19., 20.],\n",
       "       [21., 22., 23.]])"
      ]
     },
     "execution_count": 11,
     "metadata": {},
     "output_type": "execute_result"
    }
   ],
   "source": [
    "a3 = a.reshape((4,3))\n",
    "a3"
   ]
  },
  {
   "cell_type": "code",
   "execution_count": 12,
   "id": "a8d781c3",
   "metadata": {},
   "outputs": [
    {
     "data": {
      "text/plain": [
       "array([[12., 13., 14., 15.],\n",
       "       [16., 17., 18., 19.],\n",
       "       [20., 21., 22., 23.]])"
      ]
     },
     "execution_count": 12,
     "metadata": {},
     "output_type": "execute_result"
    }
   ],
   "source": [
    "a4 = a.reshape((3,4))\n",
    "a4"
   ]
  },
  {
   "cell_type": "code",
   "execution_count": 13,
   "id": "2536f0e2",
   "metadata": {},
   "outputs": [
    {
     "data": {
      "text/plain": [
       "array([[12.],\n",
       "       [13.],\n",
       "       [14.],\n",
       "       [15.],\n",
       "       [16.],\n",
       "       [17.],\n",
       "       [18.],\n",
       "       [19.],\n",
       "       [20.],\n",
       "       [21.],\n",
       "       [22.],\n",
       "       [23.]])"
      ]
     },
     "execution_count": 13,
     "metadata": {},
     "output_type": "execute_result"
    }
   ],
   "source": [
    "a5 = a.reshape((12,1))\n",
    "a5"
   ]
  },
  {
   "cell_type": "code",
   "execution_count": null,
   "id": "d52dc8c0",
   "metadata": {},
   "outputs": [],
   "source": [
    "# ex3"
   ]
  },
  {
   "cell_type": "code",
   "execution_count": 15,
   "id": "570cd636",
   "metadata": {},
   "outputs": [
    {
     "data": {
      "text/plain": [
       "array([[12., 13., 14., 15., 16., 17.],\n",
       "       [18., 19., 20., 21., 22., 23.]])"
      ]
     },
     "execution_count": 15,
     "metadata": {},
     "output_type": "execute_result"
    }
   ],
   "source": [
    "m1 = a.reshape((2,-1))\n",
    "m1"
   ]
  },
  {
   "cell_type": "code",
   "execution_count": 16,
   "id": "70bf18a6",
   "metadata": {},
   "outputs": [
    {
     "data": {
      "text/plain": [
       "array([[12., 13.],\n",
       "       [14., 15.],\n",
       "       [16., 17.],\n",
       "       [18., 19.],\n",
       "       [20., 21.],\n",
       "       [22., 23.]])"
      ]
     },
     "execution_count": 16,
     "metadata": {},
     "output_type": "execute_result"
    }
   ],
   "source": [
    "m2 = a.reshape((6,-1))\n",
    "m2"
   ]
  },
  {
   "cell_type": "code",
   "execution_count": 17,
   "id": "9f223cbb",
   "metadata": {},
   "outputs": [
    {
     "data": {
      "text/plain": [
       "array([[12., 13., 14., 15.],\n",
       "       [16., 17., 18., 19.],\n",
       "       [20., 21., 22., 23.]])"
      ]
     },
     "execution_count": 17,
     "metadata": {},
     "output_type": "execute_result"
    }
   ],
   "source": [
    "m3 = a.reshape((3,-1))\n",
    "m3"
   ]
  },
  {
   "cell_type": "code",
   "execution_count": 18,
   "id": "113355d2",
   "metadata": {},
   "outputs": [
    {
     "data": {
      "text/plain": [
       "array([[12., 13., 14., 15., 16., 17.],\n",
       "       [18., 19., 20., 21., 22., 23.]])"
      ]
     },
     "execution_count": 18,
     "metadata": {},
     "output_type": "execute_result"
    }
   ],
   "source": [
    "m4 = a.reshape((-1,6))\n",
    "m4"
   ]
  },
  {
   "cell_type": "code",
   "execution_count": 19,
   "id": "43be3ecd",
   "metadata": {},
   "outputs": [
    {
     "data": {
      "text/plain": [
       "array([[12., 13.],\n",
       "       [14., 15.],\n",
       "       [16., 17.],\n",
       "       [18., 19.],\n",
       "       [20., 21.],\n",
       "       [22., 23.]])"
      ]
     },
     "execution_count": 19,
     "metadata": {},
     "output_type": "execute_result"
    }
   ],
   "source": [
    "m5 = a.reshape((-1,2))\n",
    "m5"
   ]
  },
  {
   "cell_type": "code",
   "execution_count": 24,
   "id": "ca98debf",
   "metadata": {},
   "outputs": [],
   "source": [
    "# ex4\n",
    "# да\n",
    "# The NumPy ndarray class is used to represent both matrices and vectors. \n",
    "# A vector is an array with a single dimension (there’s no difference between\n",
    "# row and column vectors), while a matrix refers to an array with two dimensions.\n",
    "# numpy.og"
   ]
  },
  {
   "cell_type": "code",
   "execution_count": 25,
   "id": "4ebd945f",
   "metadata": {},
   "outputs": [],
   "source": [
    "# ex5"
   ]
  },
  {
   "cell_type": "code",
   "execution_count": 28,
   "id": "0eaf9fc9",
   "metadata": {},
   "outputs": [
    {
     "data": {
      "text/plain": [
       "array([[ 0.06701774,  0.04939671,  0.10897048,  0.74248469],\n",
       "       [ 0.82723445, -1.17440257,  0.60176608, -0.5785241 ],\n",
       "       [-1.11488224,  1.42634632,  0.50463078,  0.8449138 ]])"
      ]
     },
     "execution_count": 28,
     "metadata": {},
     "output_type": "execute_result"
    }
   ],
   "source": [
    "matrix = np.random.normal(0,1,(3,4))\n",
    "matrix"
   ]
  },
  {
   "cell_type": "code",
   "execution_count": 30,
   "id": "9fa0b579",
   "metadata": {},
   "outputs": [
    {
     "data": {
      "text/plain": [
       "array([ 0.06701774,  0.04939671,  0.10897048,  0.74248469,  0.82723445,\n",
       "       -1.17440257,  0.60176608, -0.5785241 , -1.11488224,  1.42634632,\n",
       "        0.50463078,  0.8449138 ])"
      ]
     },
     "execution_count": 30,
     "metadata": {},
     "output_type": "execute_result"
    }
   ],
   "source": [
    "array = matrix.reshape(-1)\n",
    "array"
   ]
  },
  {
   "cell_type": "code",
   "execution_count": 31,
   "id": "f0c99fb5",
   "metadata": {},
   "outputs": [],
   "source": [
    "# ex6"
   ]
  },
  {
   "cell_type": "code",
   "execution_count": 36,
   "id": "30553ff5",
   "metadata": {},
   "outputs": [
    {
     "data": {
      "text/plain": [
       "array([20, 18, 16, 14, 12, 10,  8,  6,  4,  2])"
      ]
     },
     "execution_count": 36,
     "metadata": {},
     "output_type": "execute_result"
    }
   ],
   "source": [
    "a = np.arange(20, 0, -2, dtype=int)\n",
    "a"
   ]
  },
  {
   "cell_type": "code",
   "execution_count": 37,
   "id": "764a7684",
   "metadata": {},
   "outputs": [],
   "source": [
    "# ex7"
   ]
  },
  {
   "cell_type": "code",
   "execution_count": 39,
   "id": "ce15898b",
   "metadata": {},
   "outputs": [
    {
     "data": {
      "text/plain": [
       "array([[20],\n",
       "       [18],\n",
       "       [16],\n",
       "       [14],\n",
       "       [12],\n",
       "       [10],\n",
       "       [ 8],\n",
       "       [ 6],\n",
       "       [ 4],\n",
       "       [ 2]])"
      ]
     },
     "execution_count": 39,
     "metadata": {},
     "output_type": "execute_result"
    }
   ],
   "source": [
    "b = np.arange(20, 1, -2, dtype=int).reshape(10,-1)\n",
    "b"
   ]
  },
  {
   "cell_type": "code",
   "execution_count": 40,
   "id": "aea165ad",
   "metadata": {},
   "outputs": [],
   "source": [
    "# ex8"
   ]
  },
  {
   "cell_type": "code",
   "execution_count": 46,
   "id": "6f348776",
   "metadata": {},
   "outputs": [
    {
     "data": {
      "text/plain": [
       "array([[0., 0.],\n",
       "       [0., 0.],\n",
       "       [1., 1.],\n",
       "       [1., 1.],\n",
       "       [1., 1.]])"
      ]
     },
     "execution_count": 46,
     "metadata": {},
     "output_type": "execute_result"
    }
   ],
   "source": [
    "a = np.zeros((2,2))\n",
    "b = np.ones((3,2))\n",
    "ab = np.concatenate((a,b))\n",
    "ab"
   ]
  },
  {
   "cell_type": "code",
   "execution_count": null,
   "id": "3fe3139e",
   "metadata": {},
   "outputs": [],
   "source": [
    "# ex9"
   ]
  },
  {
   "cell_type": "code",
   "execution_count": 66,
   "id": "becebff0",
   "metadata": {},
   "outputs": [
    {
     "data": {
      "text/plain": [
       "(4, 4)"
      ]
     },
     "execution_count": 66,
     "metadata": {},
     "output_type": "execute_result"
    }
   ],
   "source": [
    "a = np.arange(0, 12, 1, dtype=int)\n",
    "A = a.reshape((4,3))\n",
    "At = A.transpose()\n",
    "B = np.matmul(A,At)\n",
    "B.shape"
   ]
  },
  {
   "cell_type": "code",
   "execution_count": 67,
   "id": "8cc41aed",
   "metadata": {},
   "outputs": [
    {
     "data": {
      "text/plain": [
       "array([[  5,  14,  23,  32],\n",
       "       [ 14,  50,  86, 122],\n",
       "       [ 23,  86, 149, 212],\n",
       "       [ 32, 122, 212, 302]])"
      ]
     },
     "execution_count": 67,
     "metadata": {},
     "output_type": "execute_result"
    }
   ],
   "source": [
    "B"
   ]
  },
  {
   "cell_type": "code",
   "execution_count": 69,
   "id": "6f338d04",
   "metadata": {},
   "outputs": [
    {
     "data": {
      "text/plain": [
       "0.0"
      ]
     },
     "execution_count": 69,
     "metadata": {},
     "output_type": "execute_result"
    }
   ],
   "source": [
    "determinant = np.linalg.det(B)\n",
    "determinant"
   ]
  },
  {
   "cell_type": "code",
   "execution_count": null,
   "id": "de44547a",
   "metadata": {},
   "outputs": [],
   "source": [
    "# Requirements to have an Inverse\n",
    "# The matrix must be square. \n",
    "# The determinant of the matrix must not be zero\n",
    "# отсюда -- нет!!"
   ]
  },
  {
   "cell_type": "code",
   "execution_count": null,
   "id": "53f4d0f8",
   "metadata": {},
   "outputs": [],
   "source": [
    "# ex10"
   ]
  },
  {
   "cell_type": "code",
   "execution_count": 75,
   "id": "5afe7352",
   "metadata": {},
   "outputs": [
    {
     "data": {
      "text/plain": [
       "array([ 6, 19, 14, 10,  7,  6, 18, 10, 10,  3])"
      ]
     },
     "execution_count": 75,
     "metadata": {},
     "output_type": "execute_result"
    }
   ],
   "source": [
    "np.random.seed(42)\n",
    "s=np.random.choice(20,10)\n",
    "s"
   ]
  },
  {
   "cell_type": "code",
   "execution_count": null,
   "id": "46844fcb",
   "metadata": {},
   "outputs": [],
   "source": [
    "# ex11"
   ]
  },
  {
   "cell_type": "code",
   "execution_count": 86,
   "id": "9ef57370",
   "metadata": {},
   "outputs": [
    {
     "data": {
      "text/plain": [
       "array([14,  1,  9, 11,  1,  9, 13,  3, 13, 14, 15, 14,  7, 13,  6, 11])"
      ]
     },
     "execution_count": 86,
     "metadata": {},
     "output_type": "execute_result"
    }
   ],
   "source": [
    "c = np.random.randint(low=0, high=16, size=16, dtype=int)\n",
    "c"
   ]
  },
  {
   "cell_type": "code",
   "execution_count": null,
   "id": "4a2a6f42",
   "metadata": {},
   "outputs": [],
   "source": [
    "#ex12"
   ]
  },
  {
   "cell_type": "code",
   "execution_count": 87,
   "id": "084bcb30",
   "metadata": {},
   "outputs": [
    {
     "data": {
      "text/plain": [
       "(4, 4)"
      ]
     },
     "execution_count": 87,
     "metadata": {},
     "output_type": "execute_result"
    }
   ],
   "source": [
    "C = c.reshape((4,4))\n",
    "C.shape"
   ]
  },
  {
   "cell_type": "code",
   "execution_count": 90,
   "id": "be752590",
   "metadata": {},
   "outputs": [
    {
     "data": {
      "text/plain": [
       "array([[145,  24, 113, 142],\n",
       "       [ 24, 140, 216, 152],\n",
       "       [153, 226, 299, 352],\n",
       "       [102, 252, 272, 412]])"
      ]
     },
     "execution_count": 90,
     "metadata": {},
     "output_type": "execute_result"
    }
   ],
   "source": [
    "D = B + C*10\n",
    "D"
   ]
  },
  {
   "cell_type": "code",
   "execution_count": 99,
   "id": "5482e39f",
   "metadata": {},
   "outputs": [
    {
     "data": {
      "text/plain": [
       "array([[-0.00485964, -0.01126315,  0.02095953, -0.01207691],\n",
       "       [-0.02185568, -0.0155098 ,  0.0332448 , -0.01514848],\n",
       "       [ 0.00831481,  0.01362626, -0.01104857,  0.00154661],\n",
       "       [ 0.00908177,  0.00327905, -0.018229  ,  0.01366161]])"
      ]
     },
     "execution_count": 99,
     "metadata": {},
     "output_type": "execute_result"
    }
   ],
   "source": [
    "determinant_D = np.linalg.det(D)\n",
    "rank = np.linalg.matrix_rank(D)\n",
    "D_inv = np.linalg.inv(D)\n",
    "D_inv"
   ]
  },
  {
   "cell_type": "code",
   "execution_count": null,
   "id": "383a3345",
   "metadata": {},
   "outputs": [],
   "source": [
    "# ex13"
   ]
  },
  {
   "cell_type": "code",
   "execution_count": 100,
   "id": "031e8fdf",
   "metadata": {},
   "outputs": [
    {
     "data": {
      "text/plain": [
       "array([[0., 0., 1., 0.],\n",
       "       [0., 0., 1., 0.],\n",
       "       [1., 1., 0., 1.],\n",
       "       [1., 1., 0., 1.]])"
      ]
     },
     "execution_count": 100,
     "metadata": {},
     "output_type": "execute_result"
    }
   ],
   "source": [
    "D_inv[D_inv >= 0 ] = 1\n",
    "D_inv[D_inv < 0 ] = 0\n",
    "D_inv"
   ]
  },
  {
   "cell_type": "code",
   "execution_count": 108,
   "id": "fad20146",
   "metadata": {},
   "outputs": [
    {
     "data": {
      "text/plain": [
       "array([[ 14,   1,  23,  11],\n",
       "       [  1,   9,  86,   3],\n",
       "       [ 23,  86,  15, 212],\n",
       "       [ 32, 122,   6, 302]])"
      ]
     },
     "execution_count": 108,
     "metadata": {},
     "output_type": "execute_result"
    }
   ],
   "source": [
    "E = np.where(D_inv==1, B, C)\n",
    "E"
   ]
  },
  {
   "cell_type": "code",
   "execution_count": null,
   "id": "c0513645",
   "metadata": {},
   "outputs": [],
   "source": []
  },
  {
   "cell_type": "code",
   "execution_count": null,
   "id": "5fc65563",
   "metadata": {},
   "outputs": [],
   "source": []
  },
  {
   "cell_type": "code",
   "execution_count": null,
   "id": "1f09f899",
   "metadata": {},
   "outputs": [],
   "source": []
  }
 ],
 "metadata": {
  "kernelspec": {
   "display_name": "Python 3 (ipykernel)",
   "language": "python",
   "name": "python3"
  },
  "language_info": {
   "codemirror_mode": {
    "name": "ipython",
    "version": 3
   },
   "file_extension": ".py",
   "mimetype": "text/x-python",
   "name": "python",
   "nbconvert_exporter": "python",
   "pygments_lexer": "ipython3",
   "version": "3.9.12"
  }
 },
 "nbformat": 4,
 "nbformat_minor": 5
}
